{
 "cells": [
  {
   "cell_type": "code",
   "execution_count": 2,
   "id": "90e3d19e",
   "metadata": {},
   "outputs": [
    {
     "name": "stdout",
     "output_type": "stream",
     "text": [
      "5\n",
      "sayı girin: 5\n",
      "sayı girin: 5\n",
      "sayı girin: 5\n",
      "sayı girin: 3\n",
      "sayı girin: 2\n",
      "girilen sayılar [5, 5, 5, 3, 2]\n"
     ]
    }
   ],
   "source": [
    "n = int(input())\n",
    "sayilar = []\n",
    "\n",
    "for i in range(n):\n",
    "    sayi = int(input(\"sayı girin: \"))\n",
    "    sayilar.append(sayi)\n",
    "    \n",
    "print(\"girilen sayılar\",sayilar)"
   ]
  },
  {
   "cell_type": "code",
   "execution_count": 7,
   "id": "ccc0a63b",
   "metadata": {},
   "outputs": [
    {
     "ename": "SyntaxError",
     "evalue": "invalid syntax. Perhaps you forgot a comma? (3097865815.py, line 8)",
     "output_type": "error",
     "traceback": [
      "\u001b[1;36m  Cell \u001b[1;32mIn[7], line 8\u001b[1;36m\u001b[0m\n\u001b[1;33m    print(i ** 2 \"\\n\")\u001b[0m\n\u001b[1;37m          ^\u001b[0m\n\u001b[1;31mSyntaxError\u001b[0m\u001b[1;31m:\u001b[0m invalid syntax. Perhaps you forgot a comma?\n"
     ]
    }
   ],
   "source": [
    "if __name__ == '__main__':\n",
    "    n = int(input())\n",
    "    sayilar=[]\n",
    "    for i in range(n):\n",
    "         n-=1\n",
    "         sayilar.append(n)\n",
    "    for i in n:\n",
    "        print(i ** 2 \"\\n\")"
   ]
  },
  {
   "cell_type": "code",
   "execution_count": 12,
   "id": "c03165eb",
   "metadata": {},
   "outputs": [
    {
     "name": "stdout",
     "output_type": "stream",
     "text": [
      "-5\n"
     ]
    }
   ],
   "source": [
    "if __name__ == '__main__':\n",
    "    n = int(input())\n",
    "    for i in range(n):\n",
    "        print(i ** 2)"
   ]
  },
  {
   "cell_type": "code",
   "execution_count": 21,
   "id": "ee223ebb",
   "metadata": {},
   "outputs": [
    {
     "name": "stdout",
     "output_type": "stream",
     "text": [
      "5\n",
      "1e2e3e4e5e"
     ]
    }
   ],
   "source": [
    "if __name__ == '__main__':\n",
    "    n = int(input())\n",
    "    for i in range(1, n+1):\n",
    "        print(i, end=\"e\")"
   ]
  },
  {
   "cell_type": "code",
   "execution_count": 25,
   "id": "dc7cf806",
   "metadata": {},
   "outputs": [
    {
     "name": "stdout",
     "output_type": "stream",
     "text": [
      "not found!\n"
     ]
    }
   ],
   "source": [
    "text= \"hello, world\"\n",
    "pattern = r\"worlds\"\n",
    "match = re.search(pattern, text)\n",
    "if match:\n",
    "    print(\"pattern found\")\n",
    "else:\n",
    "    print(\"not found!\")"
   ]
  },
  {
   "cell_type": "code",
   "execution_count": 23,
   "id": "17253ca6",
   "metadata": {},
   "outputs": [],
   "source": [
    "import re"
   ]
  },
  {
   "cell_type": "code",
   "execution_count": 26,
   "id": "e0b4ddb7",
   "metadata": {},
   "outputs": [],
   "source": [
    "regex_pattern=r\"[.,]\""
   ]
  },
  {
   "cell_type": "code",
   "execution_count": 27,
   "id": "b31b5c23",
   "metadata": {},
   "outputs": [
    {
     "data": {
      "text/plain": [
       "1000000"
      ]
     },
     "execution_count": 27,
     "metadata": {},
     "output_type": "execute_result"
    }
   ],
   "source": [
    "1000000"
   ]
  },
  {
   "cell_type": "code",
   "execution_count": 28,
   "id": "0af3a340",
   "metadata": {},
   "outputs": [
    {
     "ename": "NameError",
     "evalue": "name 's' is not defined",
     "output_type": "error",
     "traceback": [
      "\u001b[1;31m---------------------------------------------------------------------------\u001b[0m",
      "\u001b[1;31mNameError\u001b[0m                                 Traceback (most recent call last)",
      "Cell \u001b[1;32mIn[28], line 1\u001b[0m\n\u001b[1;32m----> 1\u001b[0m \u001b[43ms\u001b[49m\u001b[38;5;241m.\u001b[39mregex_pattern\n",
      "\u001b[1;31mNameError\u001b[0m: name 's' is not defined"
     ]
    }
   ],
   "source": [
    "s.regex_pattern"
   ]
  },
  {
   "cell_type": "code",
   "execution_count": 29,
   "id": "848b3c15",
   "metadata": {},
   "outputs": [
    {
     "ename": "AttributeError",
     "evalue": "'int' object has no attribute 'regex_pattern'",
     "output_type": "error",
     "traceback": [
      "\u001b[1;31m---------------------------------------------------------------------------\u001b[0m",
      "\u001b[1;31mAttributeError\u001b[0m                            Traceback (most recent call last)",
      "Cell \u001b[1;32mIn[29], line 2\u001b[0m\n\u001b[0;32m      1\u001b[0m s \u001b[38;5;241m=\u001b[39m \u001b[38;5;241m1000000\u001b[39m\n\u001b[1;32m----> 2\u001b[0m \u001b[43ms\u001b[49m\u001b[38;5;241;43m.\u001b[39;49m\u001b[43mregex_pattern\u001b[49m\n",
      "\u001b[1;31mAttributeError\u001b[0m: 'int' object has no attribute 'regex_pattern'"
     ]
    }
   ],
   "source": [
    "s = 1000000\n",
    "s.regex_pattern"
   ]
  },
  {
   "cell_type": "code",
   "execution_count": 30,
   "id": "b037a4c9",
   "metadata": {},
   "outputs": [],
   "source": [
    "#list"
   ]
  },
  {
   "cell_type": "code",
   "execution_count": 42,
   "id": "b6ebb077",
   "metadata": {},
   "outputs": [
    {
     "name": "stdout",
     "output_type": "stream",
     "text": [
      "1\n",
      "1\n",
      "1\n",
      "2\n",
      "[[0, 0, 0], [0, 0, 1], [0, 1, 0], [1, 0, 0], [1, 1, 1]]\n"
     ]
    }
   ],
   "source": [
    "if __name__ == \"__main__\":\n",
    "    \n",
    "    x=int(input())\n",
    "    y=int(input())\n",
    "    z=int(input())\n",
    "    n=int(input())\n",
    "    lista = []\n",
    "    for i in range(x+1):\n",
    "        for j in range(y+1):\n",
    "            for k in range(z+1):\n",
    "                if (i+j+k!=n):\n",
    "                    lista.append([i,j,k])\n",
    "    print(lista)"
   ]
  },
  {
   "cell_type": "code",
   "execution_count": 37,
   "id": "3500f07f",
   "metadata": {},
   "outputs": [],
   "source": [
    "# expession involving loop variable for loop variable in sequence"
   ]
  },
  {
   "cell_type": "code",
   "execution_count": 38,
   "id": "61c33553",
   "metadata": {},
   "outputs": [
    {
     "data": {
      "text/plain": [
       "[0, 1, 2, 3, 4, 5, 6, 7, 8, 9]"
      ]
     },
     "execution_count": 38,
     "metadata": {},
     "output_type": "execute_result"
    }
   ],
   "source": [
    "ListofNumbers = [x for x in range(10)]\n",
    "ListofNumbers"
   ]
  },
  {
   "cell_type": "code",
   "execution_count": 41,
   "id": "d862620c",
   "metadata": {},
   "outputs": [
    {
     "name": "stdout",
     "output_type": "stream",
     "text": [
      "[[1, 4], [1, 5], [1, 6], [2, 4], [2, 5], [2, 6], [3, 4], [3, 5], [3, 6]]\n"
     ]
    }
   ],
   "source": [
    "results=[]\n",
    "for x in [1,2,3]:\n",
    "    for y in [4,5,6]:\n",
    "        results.append([x,y])\n",
    "        \n",
    "print(results)"
   ]
  },
  {
   "cell_type": "code",
   "execution_count": 43,
   "id": "fd9a6c8f",
   "metadata": {},
   "outputs": [
    {
     "name": "stdout",
     "output_type": "stream",
     "text": [
      "[1, 4, 9, 16, 25]\n"
     ]
    }
   ],
   "source": [
    "#map fonksiyonu kullanma\n",
    "def square(x):\n",
    "    return x ** 2\n",
    "\n",
    "numbers = [1,2,3,4,5]\n",
    "\n",
    "squared_numbers = map(square, numbers)\n",
    "print(list(squared_numbers))"
   ]
  },
  {
   "cell_type": "code",
   "execution_count": 49,
   "id": "8cbed531",
   "metadata": {},
   "outputs": [
    {
     "name": "stdout",
     "output_type": "stream",
     "text": [
      "[1, 4, 9, 16, 25]\n"
     ]
    }
   ],
   "source": [
    "#list comprehension\n",
    "numbers= [1,2,3,4,5]\n",
    "squared_numbers = [x ** 2 for x in numbers]\n",
    "print(squared_numbers)"
   ]
  },
  {
   "cell_type": "code",
   "execution_count": 51,
   "id": "66c8c9b0",
   "metadata": {},
   "outputs": [
    {
     "name": "stdout",
     "output_type": "stream",
     "text": [
      "[1, 4, 9, 16, 25]\n"
     ]
    }
   ],
   "source": [
    "#for loop\n",
    "squared_numbers = []\n",
    "for x in numbers:\n",
    "    squared_numbers.append(x ** 2)\n",
    "print(squared_numbers)"
   ]
  },
  {
   "cell_type": "code",
   "execution_count": 53,
   "id": "080b129d",
   "metadata": {},
   "outputs": [
    {
     "name": "stdout",
     "output_type": "stream",
     "text": [
      "[1, 4, 9, 16, 25]\n"
     ]
    }
   ],
   "source": [
    "#lambda kullanarak\n",
    "print(list(map(lambda x: x**2, numbers)))"
   ]
  },
  {
   "cell_type": "code",
   "execution_count": 56,
   "id": "4a9e4e35",
   "metadata": {},
   "outputs": [
    {
     "name": "stdout",
     "output_type": "stream",
     "text": [
      "5\n",
      "5\n"
     ]
    }
   ],
   "source": [
    "n = int(input())\n",
    "arr = map(int, input().split())"
   ]
  },
  {
   "cell_type": "code",
   "execution_count": 60,
   "id": "441b2d64",
   "metadata": {},
   "outputs": [
    {
     "name": "stdout",
     "output_type": "stream",
     "text": [
      "5\n",
      "2 3 6 6 5\n",
      "max değer: 6\n",
      "max öncesi: 5\n",
      "sayı: 5\n"
     ]
    }
   ],
   "source": [
    "if __name__ == '__main__':\n",
    "    n = int(input())\n",
    "    arr = map(int, input().split())\n",
    "    \n",
    "    max_value = float('-inf')\n",
    "    second_value = float('-inf')\n",
    "    \n",
    "    for n in arr:\n",
    "        if n > max_value:\n",
    "            second_value = max_value\n",
    "            max_value = n\n",
    "        elif n > second_value and n != max_value:\n",
    "            second_value = n\n",
    "            \n",
    "            \n",
    "    print(\"max değer:\",max_value)\n",
    "    print(\"max öncesi:\",second_value)\n",
    "    print(\"sayı:\", n)"
   ]
  },
  {
   "cell_type": "code",
   "execution_count": 58,
   "id": "2e458de3",
   "metadata": {},
   "outputs": [
    {
     "name": "stdout",
     "output_type": "stream",
     "text": [
      "Dizi boyutunu girin: 5\n",
      "Bir sayı girin: 2\n",
      "Bir sayı girin: 3\n",
      "Bir sayı girin: 6\n",
      "Bir sayı girin: 5\n",
      "Bir sayı girin: 6\n",
      "En yüksek değer: 6\n",
      "Onun bir öncesi: 5\n"
     ]
    }
   ],
   "source": [
    "n = int(input(\"Dizi boyutunu girin: \"))  # Dizi boyutunu kullanıcıdan alın\n",
    "array = []\n",
    "for _ in range(n):\n",
    "    num = int(input(\"Bir sayı girin: \"))  # Dizi elemanlarını kullanıcıdan alın\n",
    "    array.append(num)\n",
    "\n",
    "max_value = float('-inf')  # En küçük olası başlangıç değeri\n",
    "second_max = float('-inf')  # En küçük olası başlangıç değeri\n",
    "\n",
    "for num in array:\n",
    "    if num > max_value:\n",
    "        second_max = max_value\n",
    "        max_value = num\n",
    "    elif num > second_max and num != max_value:\n",
    "        second_max = num\n",
    "\n",
    "print(\"En yüksek değer:\", max_value)\n",
    "print(\"Onun bir öncesi:\", second_max)"
   ]
  },
  {
   "cell_type": "code",
   "execution_count": 59,
   "id": "9b480ddf",
   "metadata": {},
   "outputs": [
    {
     "name": "stdout",
     "output_type": "stream",
     "text": [
      "Dizi boyutunu girin: 5\n",
      "Sayıları girin (boşluklarla ayrılmış): 2 3 6 5 6 2\n",
      "Girilen Sayılar: [2, 3, 6, 5, 6, 2]\n"
     ]
    }
   ],
   "source": [
    "n = int(input(\"Dizi boyutunu girin: \"))  # Dizi boyutunu kullanıcıdan alın\n",
    "arr = list(map(int, input(\"Sayıları girin (boşluklarla ayrılmış): \").split()))  # Kullanıcıdan sayıları alın ve listeye dönüştürün\n",
    "\n",
    "print(\"Girilen Sayılar:\", arr)\n"
   ]
  },
  {
   "cell_type": "code",
   "execution_count": 61,
   "id": "8aefd8ab",
   "metadata": {},
   "outputs": [
    {
     "name": "stdout",
     "output_type": "stream",
     "text": [
      "5\n",
      "2 3 6 6 5\n",
      "5\n"
     ]
    }
   ],
   "source": [
    "if __name__ == '__main__':\n",
    "    n = int(input())\n",
    "    arr = map(int, input().split())\n",
    "    \n",
    "    max_value = float('-inf')\n",
    "    second_value = float('-inf')\n",
    "    \n",
    "    for n in arr:\n",
    "        if n > max_value:\n",
    "            second_value = max_value\n",
    "            max_value = n\n",
    "        elif n > second_value and n != max_value:\n",
    "            second_value = n\n",
    "\n",
    "    print(second_value)"
   ]
  },
  {
   "cell_type": "code",
   "execution_count": 72,
   "id": "86554a69",
   "metadata": {},
   "outputs": [
    {
     "name": "stdout",
     "output_type": "stream",
     "text": [
      "kaç elamanlı olacak?2\n",
      "elamanları giriniz4 3\n",
      "<map object at 0x0000017CC6CB3010>\n"
     ]
    }
   ],
   "source": [
    "if __name__ == '__main__':\n",
    "    n = int(input(\"kaç elamanlı olacak?\"))\n",
    "    dizi = map(int, input(\"elamanları giriniz\").split())\n",
    "    print(dizi)"
   ]
  },
  {
   "cell_type": "code",
   "execution_count": null,
   "id": "f6033f92",
   "metadata": {},
   "outputs": [],
   "source": []
  },
  {
   "cell_type": "code",
   "execution_count": null,
   "id": "c632b68c",
   "metadata": {},
   "outputs": [],
   "source": []
  }
 ],
 "metadata": {
  "kernelspec": {
   "display_name": "Python 3 (ipykernel)",
   "language": "python",
   "name": "python3"
  },
  "language_info": {
   "codemirror_mode": {
    "name": "ipython",
    "version": 3
   },
   "file_extension": ".py",
   "mimetype": "text/x-python",
   "name": "python",
   "nbconvert_exporter": "python",
   "pygments_lexer": "ipython3",
   "version": "3.10.4"
  }
 },
 "nbformat": 4,
 "nbformat_minor": 5
}
