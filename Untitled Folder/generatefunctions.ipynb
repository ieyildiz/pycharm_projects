{
 "cells": [
  {
   "cell_type": "code",
   "execution_count": 3,
   "id": "590cbad1",
   "metadata": {},
   "outputs": [],
   "source": [
    "def cube(n):\n",
    "    return n**3\n",
    "\n",
    "def simplifiedGenerator(n):\n",
    "    generatedResults= []\n",
    "    currentN=1\n",
    "    while currentN <= n:\n",
    "        generatedResults.append(cube(currentN))\n",
    "        currentN += 1\n",
    "    return generatedResults"
   ]
  },
  {
   "cell_type": "code",
   "execution_count": 4,
   "id": "89503aef",
   "metadata": {},
   "outputs": [],
   "source": [
    "def generatorUsingYield(n):\n",
    "\tcurrentN = 1\n",
    "\twhile currentN <= n:\n",
    "\t\tyield cube(currentN)\n",
    "\t\tcurrentN += 1"
   ]
  },
  {
   "cell_type": "code",
   "execution_count": 5,
   "id": "bf5671dd",
   "metadata": {},
   "outputs": [
    {
     "ename": "SyntaxError",
     "evalue": "Missing parentheses in call to 'print'. Did you mean print(...)? (2893632993.py, line 1)",
     "output_type": "error",
     "traceback": [
      "\u001b[1;36m  Cell \u001b[1;32mIn[5], line 1\u001b[1;36m\u001b[0m\n\u001b[1;33m    print simplifiedGenerator(10)\u001b[0m\n\u001b[1;37m    ^\u001b[0m\n\u001b[1;31mSyntaxError\u001b[0m\u001b[1;31m:\u001b[0m Missing parentheses in call to 'print'. Did you mean print(...)?\n"
     ]
    }
   ],
   "source": [
    "print simplifiedGenerator(10)"
   ]
  },
  {
   "cell_type": "code",
   "execution_count": 6,
   "id": "9337221c",
   "metadata": {},
   "outputs": [
    {
     "name": "stdout",
     "output_type": "stream",
     "text": [
      "[1, 8, 27, 64, 125, 216, 343, 512, 729, 1000]\n"
     ]
    }
   ],
   "source": [
    "print(simplifiedGenerator(10))"
   ]
  },
  {
   "cell_type": "code",
   "execution_count": 9,
   "id": "181a0644",
   "metadata": {},
   "outputs": [],
   "source": [
    "generatedValues = generatorUsingYield(10)"
   ]
  },
  {
   "cell_type": "code",
   "execution_count": 11,
   "id": "7aa6ef66",
   "metadata": {},
   "outputs": [
    {
     "name": "stdout",
     "output_type": "stream",
     "text": [
      "[1, 8, 27, 64, 125, 216, 343, 512, 729, 1000]\n"
     ]
    }
   ],
   "source": [
    "print([i for i in generatedValues])"
   ]
  },
  {
   "cell_type": "code",
   "execution_count": null,
   "id": "8bb5fc23",
   "metadata": {},
   "outputs": [],
   "source": []
  }
 ],
 "metadata": {
  "kernelspec": {
   "display_name": "Python 3 (ipykernel)",
   "language": "python",
   "name": "python3"
  },
  "language_info": {
   "codemirror_mode": {
    "name": "ipython",
    "version": 3
   },
   "file_extension": ".py",
   "mimetype": "text/x-python",
   "name": "python",
   "nbconvert_exporter": "python",
   "pygments_lexer": "ipython3",
   "version": "3.10.4"
  }
 },
 "nbformat": 4,
 "nbformat_minor": 5
}
