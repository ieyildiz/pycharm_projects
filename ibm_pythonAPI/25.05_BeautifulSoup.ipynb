{
 "cells": [
  {
   "cell_type": "code",
   "execution_count": 1,
   "id": "11a840e1",
   "metadata": {},
   "outputs": [],
   "source": [
    "from bs4 import BeautifulSoup"
   ]
  },
  {
   "cell_type": "code",
   "execution_count": 17,
   "id": "e96ab75f",
   "metadata": {},
   "outputs": [],
   "source": [
    "html=\"<!DOCTYPE html><html><head><title>Page Title</title></head><body><h3><b id='boldest'>Lebron James</b></h3><p> Salary: $92,000,000</p><h3> Stephan Curry</h3><p> Salary: $85,000,000</p><h3> Kevin Durant</h3><p>Salary: $73,200,000</p></body</html>\""
   ]
  },
  {
   "cell_type": "code",
   "execution_count": 18,
   "id": "33b9f38a",
   "metadata": {},
   "outputs": [],
   "source": [
    "soup= BeautifulSoup(html, 'html5lib')"
   ]
  },
  {
   "cell_type": "code",
   "execution_count": 19,
   "id": "eebb1f42",
   "metadata": {},
   "outputs": [],
   "source": [
    "tag_object=soup.title"
   ]
  },
  {
   "cell_type": "code",
   "execution_count": 20,
   "id": "74001030",
   "metadata": {},
   "outputs": [
    {
     "data": {
      "text/plain": [
       "<title>Page Title</title>"
      ]
     },
     "execution_count": 20,
     "metadata": {},
     "output_type": "execute_result"
    }
   ],
   "source": [
    "tag_object"
   ]
  },
  {
   "cell_type": "code",
   "execution_count": 21,
   "id": "98fba8a8",
   "metadata": {},
   "outputs": [],
   "source": [
    "tag_object=soup.h3"
   ]
  },
  {
   "cell_type": "code",
   "execution_count": 22,
   "id": "3947f1bf",
   "metadata": {},
   "outputs": [
    {
     "data": {
      "text/plain": [
       "<h3><b id=\"boldest\">Lebron James</b></h3>"
      ]
     },
     "execution_count": 22,
     "metadata": {},
     "output_type": "execute_result"
    }
   ],
   "source": [
    "tag_object"
   ]
  },
  {
   "cell_type": "code",
   "execution_count": 23,
   "id": "7c7a12db",
   "metadata": {},
   "outputs": [],
   "source": [
    "tag_child=tag_object.b"
   ]
  },
  {
   "cell_type": "code",
   "execution_count": 24,
   "id": "34efa986",
   "metadata": {},
   "outputs": [
    {
     "data": {
      "text/plain": [
       "<b id=\"boldest\">Lebron James</b>"
      ]
     },
     "execution_count": 24,
     "metadata": {},
     "output_type": "execute_result"
    }
   ],
   "source": [
    "tag_child"
   ]
  },
  {
   "cell_type": "code",
   "execution_count": 26,
   "id": "1b7c8765",
   "metadata": {},
   "outputs": [],
   "source": [
    "parent_tag=tag_child.parent"
   ]
  },
  {
   "cell_type": "code",
   "execution_count": 27,
   "id": "b635e91b",
   "metadata": {},
   "outputs": [
    {
     "data": {
      "text/plain": [
       "<h3><b id=\"boldest\">Lebron James</b></h3>"
      ]
     },
     "execution_count": 27,
     "metadata": {},
     "output_type": "execute_result"
    }
   ],
   "source": [
    "parent_tag"
   ]
  },
  {
   "cell_type": "code",
   "execution_count": 28,
   "id": "1ccfc9eb",
   "metadata": {},
   "outputs": [],
   "source": [
    "sibling_1=tag_object.next_sibling"
   ]
  },
  {
   "cell_type": "code",
   "execution_count": 29,
   "id": "89e03aac",
   "metadata": {},
   "outputs": [
    {
     "data": {
      "text/plain": [
       "<p> Salary: $92,000,000</p>"
      ]
     },
     "execution_count": 29,
     "metadata": {},
     "output_type": "execute_result"
    }
   ],
   "source": [
    "sibling_1"
   ]
  },
  {
   "cell_type": "code",
   "execution_count": 30,
   "id": "54b691c5",
   "metadata": {},
   "outputs": [],
   "source": [
    "sibling_2=sibling_1.next_sibling"
   ]
  },
  {
   "cell_type": "code",
   "execution_count": 31,
   "id": "edbd1961",
   "metadata": {},
   "outputs": [
    {
     "data": {
      "text/plain": [
       "<h3> Stephan Curry</h3>"
      ]
     },
     "execution_count": 31,
     "metadata": {},
     "output_type": "execute_result"
    }
   ],
   "source": [
    "sibling_2"
   ]
  },
  {
   "cell_type": "code",
   "execution_count": 32,
   "id": "70d5e4b0",
   "metadata": {},
   "outputs": [],
   "source": [
    "sibling_3=sibling_2.next_sibling"
   ]
  },
  {
   "cell_type": "code",
   "execution_count": 33,
   "id": "a8d53bd6",
   "metadata": {},
   "outputs": [
    {
     "data": {
      "text/plain": [
       "<p> Salary: $85,000,000</p>"
      ]
     },
     "execution_count": 33,
     "metadata": {},
     "output_type": "execute_result"
    }
   ],
   "source": [
    "sibling_3"
   ]
  },
  {
   "cell_type": "code",
   "execution_count": 34,
   "id": "5c65679d",
   "metadata": {},
   "outputs": [
    {
     "data": {
      "text/plain": [
       "{'id': 'boldest'}"
      ]
     },
     "execution_count": 34,
     "metadata": {},
     "output_type": "execute_result"
    }
   ],
   "source": [
    "tag_child.attrs"
   ]
  },
  {
   "cell_type": "code",
   "execution_count": 36,
   "id": "cebde806",
   "metadata": {},
   "outputs": [
    {
     "data": {
      "text/plain": [
       "'Lebron James'"
      ]
     },
     "execution_count": 36,
     "metadata": {},
     "output_type": "execute_result"
    }
   ],
   "source": [
    "tag_child.string"
   ]
  },
  {
   "cell_type": "code",
   "execution_count": 37,
   "id": "bc3558ac",
   "metadata": {},
   "outputs": [],
   "source": [
    "#beautiful soup object"
   ]
  },
  {
   "cell_type": "code",
   "execution_count": 39,
   "id": "1a1d3aab",
   "metadata": {},
   "outputs": [],
   "source": [
    "from bs4 import BeautifulSoup"
   ]
  },
  {
   "cell_type": "code",
   "execution_count": 43,
   "id": "6cd97a6b",
   "metadata": {},
   "outputs": [],
   "source": [
    "html=\"<table><tr><td>Pizza Place</td><td>Orders</td><td>slices</td></tr><tr><td>OnsPizza</td><td>10</td><td>100</td></tr><tr><td>CapuaPizza</td><td>60</td><td>1400</td></tr></table>\""
   ]
  },
  {
   "cell_type": "code",
   "execution_count": 46,
   "id": "9ade8f4d",
   "metadata": {},
   "outputs": [],
   "source": [
    "table= BeautifulSoup(html, 'html5lib')"
   ]
  },
  {
   "cell_type": "code",
   "execution_count": 47,
   "id": "cb3486e7",
   "metadata": {},
   "outputs": [],
   "source": [
    "table_row=table.find_all(name=\"tr\")"
   ]
  },
  {
   "cell_type": "code",
   "execution_count": 48,
   "id": "3b6f645f",
   "metadata": {},
   "outputs": [
    {
     "data": {
      "text/plain": [
       "[<tr><td>Pizza Place</td><td>Orders</td><td>slices</td></tr>,\n",
       " <tr><td>OnsPizza</td><td>10</td><td>100</td></tr>,\n",
       " <tr><td>CapuaPizza</td><td>60</td><td>1400</td></tr>]"
      ]
     },
     "execution_count": 48,
     "metadata": {},
     "output_type": "execute_result"
    }
   ],
   "source": [
    "table_row"
   ]
  },
  {
   "cell_type": "code",
   "execution_count": 49,
   "id": "dc5a357d",
   "metadata": {},
   "outputs": [],
   "source": [
    "first_row=table_row[0]"
   ]
  },
  {
   "cell_type": "code",
   "execution_count": 50,
   "id": "49fe2444",
   "metadata": {},
   "outputs": [
    {
     "data": {
      "text/plain": [
       "<tr><td>Pizza Place</td><td>Orders</td><td>slices</td></tr>"
      ]
     },
     "execution_count": 50,
     "metadata": {},
     "output_type": "execute_result"
    }
   ],
   "source": [
    "first_row"
   ]
  },
  {
   "cell_type": "code",
   "execution_count": 51,
   "id": "74fc4c42",
   "metadata": {},
   "outputs": [
    {
     "data": {
      "text/plain": [
       "<td>Pizza Place</td>"
      ]
     },
     "execution_count": 51,
     "metadata": {},
     "output_type": "execute_result"
    }
   ],
   "source": [
    "first_row.td"
   ]
  },
  {
   "cell_type": "code",
   "execution_count": 52,
   "id": "ef1b9649",
   "metadata": {},
   "outputs": [],
   "source": [
    "#variable row"
   ]
  },
  {
   "cell_type": "code",
   "execution_count": 53,
   "id": "d6dd3f68",
   "metadata": {},
   "outputs": [
    {
     "ename": "SyntaxError",
     "evalue": "expected ':' (2701331980.py, line 1)",
     "output_type": "error",
     "traceback": [
      "\u001b[1;36m  Cell \u001b[1;32mIn[53], line 1\u001b[1;36m\u001b[0m\n\u001b[1;33m    for i,row in enumerate(table_rows)\u001b[0m\n\u001b[1;37m                                      ^\u001b[0m\n\u001b[1;31mSyntaxError\u001b[0m\u001b[1;31m:\u001b[0m expected ':'\n"
     ]
    }
   ],
   "source": [
    "for i,row in enumerate(table_rows):\n",
    "    print(\"\")"
   ]
  },
  {
   "cell_type": "code",
   "execution_count": null,
   "id": "ed79885d",
   "metadata": {},
   "outputs": [],
   "source": []
  }
 ],
 "metadata": {
  "kernelspec": {
   "display_name": "Python 3 (ipykernel)",
   "language": "python",
   "name": "python3"
  },
  "language_info": {
   "codemirror_mode": {
    "name": "ipython",
    "version": 3
   },
   "file_extension": ".py",
   "mimetype": "text/x-python",
   "name": "python",
   "nbconvert_exporter": "python",
   "pygments_lexer": "ipython3",
   "version": "3.10.4"
  }
 },
 "nbformat": 4,
 "nbformat_minor": 5
}
