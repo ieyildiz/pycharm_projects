{
 "cells": [
  {
   "cell_type": "code",
   "execution_count": 2,
   "id": "2e90534a",
   "metadata": {},
   "outputs": [],
   "source": [
    "import requests"
   ]
  },
  {
   "cell_type": "code",
   "execution_count": 3,
   "id": "299250a9",
   "metadata": {},
   "outputs": [],
   "source": [
    "url='https://www.ibm.com/'\n",
    "r=requests.get(url)"
   ]
  },
  {
   "cell_type": "code",
   "execution_count": 4,
   "id": "a14af3f4",
   "metadata": {},
   "outputs": [],
   "source": [
    "r.status_code:200"
   ]
  },
  {
   "cell_type": "code",
   "execution_count": 5,
   "id": "038ae4e4",
   "metadata": {},
   "outputs": [
    {
     "data": {
      "text/plain": [
       "{'User-Agent': 'python-requests/2.30.0', 'Accept-Encoding': 'gzip, deflate', 'Accept': '*/*', 'Connection': 'keep-alive', 'Cookie': '_abck=0AE65F22C10273C5B0BB660A6588B282~-1~YAAQ3IYUAhsmUjCIAQAAJjGfTQniqGipaTEy5A4y2A3ZlUl6MYk/a0TvKkLTBKwDUxrC+a05XQKguJVTWChwVtz5fIGw9XA0cdBFmP+6vQs7lBN6DVfqrxDzGAPVEj8xKzB9idixM7aNrGNelYU1xz94vuyVCPdbsAYnjyE/J+ef8XVJcP9mrOoBdVkPm3r4rgQv/968RPd11Qej+KqmT3aVQny6bzfu+VGsuqeWsJjX+3VWZ+3ZAw1B4YBHEGU7bJR4ALcX+qQSpp98UiVDTkl3hSzfK/Mx0hBrBxrgFo3jUmFeEs+LFETQq/zovwQbtsM8CurHtXvOwbDV0bxXYnuVaxR4RMtpuaF/fH4PsDIoDln2VKA=~-1~-1~-1; bm_sz=59D7A0A1DB42470764193A46C45F0CF5~YAAQ3IYUAhwmUjCIAQAAJjGfTRPme3Jy2tDM3Pr39M8z2L8dBcw8G119GCnuOs4ZwhgxxSJ5WU4q69ZOqcyxBDSyDHEOgbu9T52ejkZr/AfK7MY77eOJaKPHPse8FlZcSmxdKlyexlxGTJ9F9KDSrljHJKX8IF05bVBkbD5h7ETXOuBb8znKfZzqeOAJpT5RRx2yP6+8uFhTUb/SZgFiO1TBHrP9/5zvgO01mbvg8Ih0YLkuzhHu/4BX8K2MKESWCVb0d8K04Kkm2pT+xnYJjxMB4s+xz3uJx3zIE/VChHM=~3420998~3290161'}"
      ]
     },
     "execution_count": 5,
     "metadata": {},
     "output_type": "execute_result"
    }
   ],
   "source": [
    "r.request.headers"
   ]
  },
  {
   "cell_type": "code",
   "execution_count": 6,
   "id": "330ce0d1",
   "metadata": {},
   "outputs": [],
   "source": [
    "r.request.body:None"
   ]
  },
  {
   "cell_type": "code",
   "execution_count": 7,
   "id": "490169cf",
   "metadata": {},
   "outputs": [],
   "source": [
    "header=r.headers"
   ]
  },
  {
   "cell_type": "code",
   "execution_count": 9,
   "id": "ec3c1aa8",
   "metadata": {},
   "outputs": [
    {
     "data": {
      "text/plain": [
       "{'Accept-Ranges': 'bytes', 'Content-Type': 'text/html', 'ETag': '\"50bf7407d406720d846641d0b27a97a1:1684763703.875081\"', 'Last-Modified': 'Fri, 19 May 2023 19:33:13 GMT', 'Server': 'AkamaiNetStorage', 'Cache-Control': 'max-age=3600', 'Expires': 'Wed, 24 May 2023 12:57:39 GMT', 'X-Akamai-Transformed': '9 17180 0 pmb=mTOE,2', 'Content-Encoding': 'gzip', 'Date': 'Wed, 24 May 2023 11:57:39 GMT', 'Content-Length': '17376', 'Connection': 'keep-alive', 'Vary': 'Accept-Encoding', 'x-content-type-options': 'nosniff', 'X-XSS-Protection': '1; mode=block', 'Content-Security-Policy': 'upgrade-insecure-requests', 'Strict-Transport-Security': 'max-age=31536000'}"
      ]
     },
     "execution_count": 9,
     "metadata": {},
     "output_type": "execute_result"
    }
   ],
   "source": [
    "header"
   ]
  },
  {
   "cell_type": "code",
   "execution_count": 14,
   "id": "a6b967bd",
   "metadata": {},
   "outputs": [],
   "source": [
    "header['data']= 'Thu, 24 05 2023 16:03 GMT'"
   ]
  },
  {
   "cell_type": "code",
   "execution_count": 15,
   "id": "3bc52f82",
   "metadata": {},
   "outputs": [],
   "source": [
    "header['Content-Type']:'text/html; charset=UTF-8'"
   ]
  },
  {
   "cell_type": "code",
   "execution_count": 16,
   "id": "91a3a91e",
   "metadata": {},
   "outputs": [],
   "source": [
    "r.encoding:'UTF-8'"
   ]
  },
  {
   "cell_type": "code",
   "execution_count": 18,
   "id": "9bfe1136",
   "metadata": {},
   "outputs": [
    {
     "data": {
      "text/plain": [
       "'<!DOCTYPE html><html lang=\"en-US\"><head><meta name=\"viewport\" content=\"width=device-width\"/><meta ch'"
      ]
     },
     "execution_count": 18,
     "metadata": {},
     "output_type": "execute_result"
    }
   ],
   "source": [
    "r.text[0:100]"
   ]
  },
  {
   "cell_type": "code",
   "execution_count": null,
   "id": "62661126",
   "metadata": {},
   "outputs": [],
   "source": []
  }
 ],
 "metadata": {
  "kernelspec": {
   "display_name": "Python 3 (ipykernel)",
   "language": "python",
   "name": "python3"
  },
  "language_info": {
   "codemirror_mode": {
    "name": "ipython",
    "version": 3
   },
   "file_extension": ".py",
   "mimetype": "text/x-python",
   "name": "python",
   "nbconvert_exporter": "python",
   "pygments_lexer": "ipython3",
   "version": "3.10.4"
  }
 },
 "nbformat": 4,
 "nbformat_minor": 5
}
