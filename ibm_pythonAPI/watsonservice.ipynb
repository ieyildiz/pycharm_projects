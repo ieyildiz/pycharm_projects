{
 "cells": [
  {
   "cell_type": "code",
   "execution_count": 1,
   "id": "89d40768",
   "metadata": {},
   "outputs": [
    {
     "name": "stdout",
     "output_type": "stream",
     "text": [
      "Collecting ibm-watson>=7.0.0Note: you may need to restart the kernel to use updated packages.\n"
     ]
    },
    {
     "name": "stderr",
     "output_type": "stream",
     "text": [
      "\n",
      "[notice] A new release of pip is available: 23.0 -> 23.1.2\n",
      "[notice] To update, run: python.exe -m pip install --upgrade pip\n"
     ]
    },
    {
     "name": "stdout",
     "output_type": "stream",
     "text": [
      "\n",
      "  Downloading ibm-watson-7.0.0.tar.gz (389 kB)\n",
      "     ---------------------------------------- 0.0/389.1 kB ? eta -:--:--\n",
      "     --- ----------------------------------- 30.7/389.1 kB 1.4 MB/s eta 0:00:01\n",
      "     --------- ----------------------------- 92.2/389.1 kB 1.1 MB/s eta 0:00:01\n",
      "     ---------------------- --------------- 225.3/389.1 kB 1.4 MB/s eta 0:00:01\n",
      "     ----------------------- -------------- 235.5/389.1 kB 1.2 MB/s eta 0:00:01\n",
      "     -------------------------- ----------- 266.2/389.1 kB 1.2 MB/s eta 0:00:01\n",
      "     ------------------------------- ------ 317.4/389.1 kB 1.0 MB/s eta 0:00:01\n",
      "     ------------------------------- ------ 317.4/389.1 kB 1.0 MB/s eta 0:00:01\n",
      "     -----------------------------------  378.9/389.1 kB 945.2 kB/s eta 0:00:01\n",
      "     ------------------------------------ 389.1/389.1 kB 897.8 kB/s eta 0:00:00\n",
      "  Installing build dependencies: started\n",
      "  Installing build dependencies: finished with status 'done'\n",
      "  Getting requirements to build wheel: started\n",
      "  Getting requirements to build wheel: finished with status 'done'\n",
      "  Preparing metadata (pyproject.toml): started\n",
      "  Preparing metadata (pyproject.toml): finished with status 'done'\n",
      "Collecting ibm-cloud-sdk-core==3.*,>=3.3.6\n",
      "  Downloading ibm-cloud-sdk-core-3.16.6.tar.gz (52 kB)\n",
      "     ---------------------------------------- 0.0/52.3 kB ? eta -:--:--\n",
      "     ---------------------------------------- 52.3/52.3 kB 2.6 MB/s eta 0:00:00\n",
      "  Installing build dependencies: started\n",
      "  Installing build dependencies: finished with status 'done'\n",
      "  Getting requirements to build wheel: started\n",
      "  Getting requirements to build wheel: finished with status 'done'\n",
      "  Preparing metadata (pyproject.toml): started\n",
      "  Preparing metadata (pyproject.toml): finished with status 'done'\n",
      "Requirement already satisfied: python-dateutil>=2.5.3 in c:\\python310\\lib\\site-packages (from ibm-watson>=7.0.0) (2.8.2)\n",
      "Requirement already satisfied: requests<3.0,>=2.0 in c:\\python310\\lib\\site-packages (from ibm-watson>=7.0.0) (2.30.0)\n",
      "Collecting websocket-client==1.1.0\n",
      "  Downloading websocket_client-1.1.0-py2.py3-none-any.whl (68 kB)\n",
      "     ---------------------------------------- 0.0/68.7 kB ? eta -:--:--\n",
      "     ---------------------------------------- 68.7/68.7 kB 3.7 MB/s eta 0:00:00\n",
      "Requirement already satisfied: urllib3<2.0.0,>=1.26.0 in c:\\python310\\lib\\site-packages (from ibm-cloud-sdk-core==3.*,>=3.3.6->ibm-watson>=7.0.0) (1.26.9)\n",
      "Collecting PyJWT<3.0.0,>=2.4.0\n",
      "  Downloading PyJWT-2.7.0-py3-none-any.whl (22 kB)\n",
      "Requirement already satisfied: six>=1.5 in c:\\python310\\lib\\site-packages (from python-dateutil>=2.5.3->ibm-watson>=7.0.0) (1.16.0)\n",
      "Requirement already satisfied: idna<4,>=2.5 in c:\\python310\\lib\\site-packages (from requests<3.0,>=2.0->ibm-watson>=7.0.0) (3.3)\n",
      "Requirement already satisfied: charset-normalizer<4,>=2 in c:\\python310\\lib\\site-packages (from requests<3.0,>=2.0->ibm-watson>=7.0.0) (2.0.12)\n",
      "Requirement already satisfied: certifi>=2017.4.17 in c:\\python310\\lib\\site-packages (from requests<3.0,>=2.0->ibm-watson>=7.0.0) (2021.10.8)\n",
      "Building wheels for collected packages: ibm-watson, ibm-cloud-sdk-core\n",
      "  Building wheel for ibm-watson (pyproject.toml): started\n",
      "  Building wheel for ibm-watson (pyproject.toml): finished with status 'done'\n",
      "  Created wheel for ibm-watson: filename=ibm_watson-7.0.0-py3-none-any.whl size=389828 sha256=62a4084e686de3c72ed92bab893451af2f7d5f91b6012610b7f50b45a202406b\n",
      "  Stored in directory: c:\\users\\eren\\appdata\\local\\pip\\cache\\wheels\\b8\\c3\\c1\\0e35cd88e7305131fabfc503b615b0675ad255a639a5b49a79\n",
      "  Building wheel for ibm-cloud-sdk-core (pyproject.toml): started\n",
      "  Building wheel for ibm-cloud-sdk-core (pyproject.toml): finished with status 'done'\n",
      "  Created wheel for ibm-cloud-sdk-core: filename=ibm_cloud_sdk_core-3.16.6-py3-none-any.whl size=85633 sha256=814103d98a04f9f57c7fd249f1941da6d43bc36e650fb8b9703e352842014b4f\n",
      "  Stored in directory: c:\\users\\eren\\appdata\\local\\pip\\cache\\wheels\\f6\\e0\\86\\3c208de335284083a8c026fa723660e772a2dfc83cc2c6213a\n",
      "Successfully built ibm-watson ibm-cloud-sdk-core\n",
      "Installing collected packages: websocket-client, PyJWT, ibm-cloud-sdk-core, ibm-watson\n",
      "  Attempting uninstall: websocket-client\n",
      "    Found existing installation: websocket-client 1.5.1\n",
      "    Uninstalling websocket-client-1.5.1:\n",
      "      Successfully uninstalled websocket-client-1.5.1\n",
      "Successfully installed PyJWT-2.7.0 ibm-cloud-sdk-core-3.16.6 ibm-watson-7.0.0 websocket-client-1.1.0\n"
     ]
    }
   ],
   "source": [
    "pip install --upgrade \"ibm-watson>=7.0.0\""
   ]
  },
  {
   "cell_type": "code",
   "execution_count": 2,
   "id": "d7d59304",
   "metadata": {},
   "outputs": [
    {
     "ename": "NameError",
     "evalue": "name 'set_service_url' is not defined",
     "output_type": "error",
     "traceback": [
      "\u001b[1;31m---------------------------------------------------------------------------\u001b[0m",
      "\u001b[1;31mNameError\u001b[0m                                 Traceback (most recent call last)",
      "Cell \u001b[1;32mIn[2], line 1\u001b[0m\n\u001b[1;32m----> 1\u001b[0m \u001b[43mset_service_url\u001b[49m()\n",
      "\u001b[1;31mNameError\u001b[0m: name 'set_service_url' is not defined"
     ]
    }
   ],
   "source": [
    "set_service_url()"
   ]
  },
  {
   "cell_type": "code",
   "execution_count": 3,
   "id": "a979d287",
   "metadata": {},
   "outputs": [],
   "source": [
    "from ibm_watson import SpeechToTextV1"
   ]
  },
  {
   "cell_type": "code",
   "execution_count": 4,
   "id": "89c13e14",
   "metadata": {},
   "outputs": [
    {
     "ename": "NameError",
     "evalue": "name 'set_service_url' is not defined",
     "output_type": "error",
     "traceback": [
      "\u001b[1;31m---------------------------------------------------------------------------\u001b[0m",
      "\u001b[1;31mNameError\u001b[0m                                 Traceback (most recent call last)",
      "Cell \u001b[1;32mIn[4], line 1\u001b[0m\n\u001b[1;32m----> 1\u001b[0m \u001b[43mset_service_url\u001b[49m()\n",
      "\u001b[1;31mNameError\u001b[0m: name 'set_service_url' is not defined"
     ]
    }
   ],
   "source": [
    "set_service_url()"
   ]
  },
  {
   "cell_type": "code",
   "execution_count": 5,
   "id": "39f8a9a1",
   "metadata": {},
   "outputs": [],
   "source": [
    "url_s2t=\"https://api.eu-de.speech-to-text.watson.cloud.ibm.com\""
   ]
  },
  {
   "cell_type": "code",
   "execution_count": 7,
   "id": "b450c47a",
   "metadata": {},
   "outputs": [],
   "source": [
    "from ibm_cloud_sdk_core.authenticators import IAMAuthenticator"
   ]
  },
  {
   "cell_type": "code",
   "execution_count": 9,
   "id": "5e3b7cde",
   "metadata": {},
   "outputs": [
    {
     "ename": "ValueError",
     "evalue": "The apikey shouldn't start or end with curly brackets or quotes. Please remove any surrounding {, }, or \" characters.",
     "output_type": "error",
     "traceback": [
      "\u001b[1;31m---------------------------------------------------------------------------\u001b[0m",
      "\u001b[1;31mValueError\u001b[0m                                Traceback (most recent call last)",
      "Cell \u001b[1;32mIn[9], line 1\u001b[0m\n\u001b[1;32m----> 1\u001b[0m authenticator \u001b[38;5;241m=\u001b[39m \u001b[43mIAMAuthenticator\u001b[49m\u001b[43m(\u001b[49m\u001b[38;5;124;43m'\u001b[39;49m\u001b[38;5;132;43;01m{apikey}\u001b[39;49;00m\u001b[38;5;124;43m'\u001b[39;49m\u001b[43m)\u001b[49m\n\u001b[0;32m      2\u001b[0m speech_to_text \u001b[38;5;241m=\u001b[39m SpeechToTextV1(\n\u001b[0;32m      3\u001b[0m     authenticator\u001b[38;5;241m=\u001b[39mauthenticator\n\u001b[0;32m      4\u001b[0m )\n",
      "File \u001b[1;32mC:\\Python310\\lib\\site-packages\\ibm_cloud_sdk_core\\authenticators\\iam_authenticator.py:86\u001b[0m, in \u001b[0;36mIAMAuthenticator.__init__\u001b[1;34m(self, apikey, url, client_id, client_secret, disable_ssl_verification, headers, proxies, scope)\u001b[0m\n\u001b[0;32m     73\u001b[0m     \u001b[38;5;28;01mraise\u001b[39;00m \u001b[38;5;167;01mTypeError\u001b[39;00m(\u001b[38;5;124m'\u001b[39m\u001b[38;5;124mdisable_ssl_verification must be a bool\u001b[39m\u001b[38;5;124m'\u001b[39m)\n\u001b[0;32m     75\u001b[0m \u001b[38;5;28mself\u001b[39m\u001b[38;5;241m.\u001b[39mtoken_manager \u001b[38;5;241m=\u001b[39m IAMTokenManager(\n\u001b[0;32m     76\u001b[0m     apikey,\n\u001b[0;32m     77\u001b[0m     url\u001b[38;5;241m=\u001b[39murl,\n\u001b[1;32m   (...)\u001b[0m\n\u001b[0;32m     83\u001b[0m     scope\u001b[38;5;241m=\u001b[39mscope,\n\u001b[0;32m     84\u001b[0m )\n\u001b[1;32m---> 86\u001b[0m \u001b[38;5;28;43mself\u001b[39;49m\u001b[38;5;241;43m.\u001b[39;49m\u001b[43mvalidate\u001b[49m\u001b[43m(\u001b[49m\u001b[43m)\u001b[49m\n",
      "File \u001b[1;32mC:\\Python310\\lib\\site-packages\\ibm_cloud_sdk_core\\authenticators\\iam_authenticator.py:107\u001b[0m, in \u001b[0;36mIAMAuthenticator.validate\u001b[1;34m(self)\u001b[0m\n\u001b[0;32m    104\u001b[0m     \u001b[38;5;28;01mraise\u001b[39;00m \u001b[38;5;167;01mValueError\u001b[39;00m(\u001b[38;5;124m'\u001b[39m\u001b[38;5;124mThe apikey shouldn\u001b[39m\u001b[38;5;130;01m\\'\u001b[39;00m\u001b[38;5;124mt be None.\u001b[39m\u001b[38;5;124m'\u001b[39m)\n\u001b[0;32m    106\u001b[0m \u001b[38;5;28;01mif\u001b[39;00m has_bad_first_or_last_char(\u001b[38;5;28mself\u001b[39m\u001b[38;5;241m.\u001b[39mtoken_manager\u001b[38;5;241m.\u001b[39mapikey):\n\u001b[1;32m--> 107\u001b[0m     \u001b[38;5;28;01mraise\u001b[39;00m \u001b[38;5;167;01mValueError\u001b[39;00m(\n\u001b[0;32m    108\u001b[0m         \u001b[38;5;124m'\u001b[39m\u001b[38;5;124mThe apikey shouldn\u001b[39m\u001b[38;5;130;01m\\'\u001b[39;00m\u001b[38;5;124mt start or end with curly brackets or quotes. \u001b[39m\u001b[38;5;124m'\u001b[39m\n\u001b[0;32m    109\u001b[0m         \u001b[38;5;124m'\u001b[39m\u001b[38;5;124mPlease remove any surrounding \u001b[39m\u001b[38;5;124m{\u001b[39m\u001b[38;5;124m, }, or \u001b[39m\u001b[38;5;130;01m\\\"\u001b[39;00m\u001b[38;5;124m characters.\u001b[39m\u001b[38;5;124m'\u001b[39m\n\u001b[0;32m    110\u001b[0m     )\n",
      "\u001b[1;31mValueError\u001b[0m: The apikey shouldn't start or end with curly brackets or quotes. Please remove any surrounding {, }, or \" characters."
     ]
    }
   ],
   "source": [
    "authenticator = IAMAuthenticator('{apikey}')\n",
    "speech_to_text = SpeechToTextV1(\n",
    "    authenticator=authenticator\n",
    ")"
   ]
  },
  {
   "cell_type": "code",
   "execution_count": null,
   "id": "74c5fb99",
   "metadata": {},
   "outputs": [],
   "source": []
  }
 ],
 "metadata": {
  "kernelspec": {
   "display_name": "Python 3 (ipykernel)",
   "language": "python",
   "name": "python3"
  },
  "language_info": {
   "codemirror_mode": {
    "name": "ipython",
    "version": 3
   },
   "file_extension": ".py",
   "mimetype": "text/x-python",
   "name": "python",
   "nbconvert_exporter": "python",
   "pygments_lexer": "ipython3",
   "version": "3.10.4"
  }
 },
 "nbformat": 4,
 "nbformat_minor": 5
}
