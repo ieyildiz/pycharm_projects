{
 "cells": [
  {
   "cell_type": "code",
   "execution_count": 1,
   "id": "7eedba4e",
   "metadata": {},
   "outputs": [],
   "source": [
    "import pandas as pd"
   ]
  },
  {
   "cell_type": "code",
   "execution_count": 2,
   "id": "05a52ed0",
   "metadata": {},
   "outputs": [],
   "source": [
    "#dict oluşturma"
   ]
  },
  {
   "cell_type": "code",
   "execution_count": 9,
   "id": "55cb1e6e",
   "metadata": {},
   "outputs": [],
   "source": [
    "data = {\n",
    "    'isim': ['Ahmet', 'Mehmet', 'Steve'],\n",
    "    'notlar': [[54,35,89], [45,87,65], [54,38,18]]\n",
    "}"
   ]
  },
  {
   "cell_type": "code",
   "execution_count": 10,
   "id": "24d9c17a",
   "metadata": {},
   "outputs": [
    {
     "data": {
      "text/plain": [
       "{'isim': ['Ahmet', 'Mehmet', 'Steve'],\n",
       " 'notlar': [[54, 35, 89], [45, 87, 65], [54, 38, 18]]}"
      ]
     },
     "execution_count": 10,
     "metadata": {},
     "output_type": "execute_result"
    }
   ],
   "source": [
    "data"
   ]
  },
  {
   "cell_type": "code",
   "execution_count": 5,
   "id": "b539f03e",
   "metadata": {},
   "outputs": [],
   "source": [
    "#dict dataframe dönüştürelim"
   ]
  },
  {
   "cell_type": "code",
   "execution_count": 11,
   "id": "6f2e7286",
   "metadata": {},
   "outputs": [],
   "source": [
    "df = pd.DataFrame(data)"
   ]
  },
  {
   "cell_type": "code",
   "execution_count": 12,
   "id": "f02476b3",
   "metadata": {},
   "outputs": [
    {
     "data": {
      "text/html": [
       "<div>\n",
       "<style scoped>\n",
       "    .dataframe tbody tr th:only-of-type {\n",
       "        vertical-align: middle;\n",
       "    }\n",
       "\n",
       "    .dataframe tbody tr th {\n",
       "        vertical-align: top;\n",
       "    }\n",
       "\n",
       "    .dataframe thead th {\n",
       "        text-align: right;\n",
       "    }\n",
       "</style>\n",
       "<table border=\"1\" class=\"dataframe\">\n",
       "  <thead>\n",
       "    <tr style=\"text-align: right;\">\n",
       "      <th></th>\n",
       "      <th>isim</th>\n",
       "      <th>notlar</th>\n",
       "    </tr>\n",
       "  </thead>\n",
       "  <tbody>\n",
       "    <tr>\n",
       "      <th>0</th>\n",
       "      <td>Ahmet</td>\n",
       "      <td>[54, 35, 89]</td>\n",
       "    </tr>\n",
       "    <tr>\n",
       "      <th>1</th>\n",
       "      <td>Mehmet</td>\n",
       "      <td>[45, 87, 65]</td>\n",
       "    </tr>\n",
       "    <tr>\n",
       "      <th>2</th>\n",
       "      <td>Steve</td>\n",
       "      <td>[54, 38, 18]</td>\n",
       "    </tr>\n",
       "  </tbody>\n",
       "</table>\n",
       "</div>"
      ],
      "text/plain": [
       "     isim        notlar\n",
       "0   Ahmet  [54, 35, 89]\n",
       "1  Mehmet  [45, 87, 65]\n",
       "2   Steve  [54, 38, 18]"
      ]
     },
     "execution_count": 12,
     "metadata": {},
     "output_type": "execute_result"
    }
   ],
   "source": [
    "df"
   ]
  },
  {
   "cell_type": "code",
   "execution_count": 13,
   "id": "95c15ace",
   "metadata": {},
   "outputs": [],
   "source": [
    "#ortalama hesaplayalım ve geçti/kaldı tablosu hazırlayalım."
   ]
  },
  {
   "cell_type": "code",
   "execution_count": 15,
   "id": "3529e561",
   "metadata": {},
   "outputs": [],
   "source": [
    "df['Ortalama'] = df['notlar'].apply(lambda x: sum(x) / len(x))\n",
    "df['Durum'] = df['Ortalama'].apply(lambda x: 'Geçti' if x > 50 else \"kaldı\")"
   ]
  },
  {
   "cell_type": "code",
   "execution_count": 17,
   "id": "25956f63",
   "metadata": {},
   "outputs": [
    {
     "name": "stdout",
     "output_type": "stream",
     "text": [
      "     isim        notlar   Ortalama  Durum\n",
      "0   Ahmet  [54, 35, 89]  59.333333  Geçti\n",
      "1  Mehmet  [45, 87, 65]  65.666667  Geçti\n",
      "2   Steve  [54, 38, 18]  36.666667  kaldı\n"
     ]
    }
   ],
   "source": [
    "print(df)"
   ]
  },
  {
   "cell_type": "code",
   "execution_count": null,
   "id": "5271e6eb",
   "metadata": {},
   "outputs": [],
   "source": []
  }
 ],
 "metadata": {
  "kernelspec": {
   "display_name": "Python 3 (ipykernel)",
   "language": "python",
   "name": "python3"
  },
  "language_info": {
   "codemirror_mode": {
    "name": "ipython",
    "version": 3
   },
   "file_extension": ".py",
   "mimetype": "text/x-python",
   "name": "python",
   "nbconvert_exporter": "python",
   "pygments_lexer": "ipython3",
   "version": "3.10.4"
  }
 },
 "nbformat": 4,
 "nbformat_minor": 5
}
