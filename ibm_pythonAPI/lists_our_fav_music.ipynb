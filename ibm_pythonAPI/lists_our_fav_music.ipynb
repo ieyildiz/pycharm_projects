{
 "cells": [
  {
   "cell_type": "code",
   "execution_count": 1,
   "id": "a822c2d6",
   "metadata": {},
   "outputs": [],
   "source": [
    "L = [\"Mich\", \"10.1\", 1982]"
   ]
  },
  {
   "cell_type": "code",
   "execution_count": 2,
   "id": "bd48100c",
   "metadata": {},
   "outputs": [
    {
     "data": {
      "text/plain": [
       "['Mich', '10.1', 1982]"
      ]
     },
     "execution_count": 2,
     "metadata": {},
     "output_type": "execute_result"
    }
   ],
   "source": [
    "L"
   ]
  },
  {
   "cell_type": "code",
   "execution_count": 3,
   "id": "35dad59b",
   "metadata": {},
   "outputs": [
    {
     "name": "stdout",
     "output_type": "stream",
     "text": [
      "the same element using negative and positive indexing:\n",
      " Postive: Mich \n",
      " Negative: Mich\n",
      "the same element using negative and positive indexing:\n",
      " Postive: 10.1 \n",
      " Negative: 10.1\n",
      "the same element using negative and positive indexing:\n",
      " Postive: 1982 \n",
      " Negative: 1982\n"
     ]
    }
   ],
   "source": [
    "print('the same element using negative and positive indexing:\\n Postive:',L[0],\n",
    "'\\n Negative:' , L[-3]  )\n",
    "print('the same element using negative and positive indexing:\\n Postive:',L[1],\n",
    "'\\n Negative:' , L[-2]  )\n",
    "print('the same element using negative and positive indexing:\\n Postive:',L[2],\n",
    "'\\n Negative:' , L[-1]  )"
   ]
  },
  {
   "cell_type": "code",
   "execution_count": 4,
   "id": "3ae37e19",
   "metadata": {},
   "outputs": [
    {
     "data": {
      "text/plain": [
       "['Michael Jackson', 10.1, 1982, [1, 2], ('A', 1)]"
      ]
     },
     "execution_count": 4,
     "metadata": {},
     "output_type": "execute_result"
    }
   ],
   "source": [
    "[\"Michael Jackson\", 10.1, 1982, [1, 2], (\"A\", 1)]"
   ]
  },
  {
   "cell_type": "code",
   "execution_count": 5,
   "id": "e3300866",
   "metadata": {},
   "outputs": [],
   "source": [
    "L.extend(['pop', 10])"
   ]
  },
  {
   "cell_type": "code",
   "execution_count": 6,
   "id": "e027197f",
   "metadata": {},
   "outputs": [
    {
     "data": {
      "text/plain": [
       "['Mich', '10.1', 1982, 'pop', 10]"
      ]
     },
     "execution_count": 6,
     "metadata": {},
     "output_type": "execute_result"
    }
   ],
   "source": [
    "L\n"
   ]
  },
  {
   "cell_type": "code",
   "execution_count": 7,
   "id": "20cb3d18",
   "metadata": {},
   "outputs": [
    {
     "data": {
      "text/plain": [
       "['Mich', '10.1', 1982, 'pop', 10, ['dc-ac', 10]]"
      ]
     },
     "execution_count": 7,
     "metadata": {},
     "output_type": "execute_result"
    }
   ],
   "source": [
    "L.append(['dc-ac', 10])\n",
    "L"
   ]
  },
  {
   "cell_type": "code",
   "execution_count": 8,
   "id": "f5266916",
   "metadata": {},
   "outputs": [],
   "source": [
    "del(L[0])"
   ]
  },
  {
   "cell_type": "code",
   "execution_count": 9,
   "id": "d6abdaae",
   "metadata": {},
   "outputs": [
    {
     "data": {
      "text/plain": [
       "['10.1', 1982, 'pop', 10, ['dc-ac', 10]]"
      ]
     },
     "execution_count": 9,
     "metadata": {},
     "output_type": "execute_result"
    }
   ],
   "source": [
    "L"
   ]
  },
  {
   "cell_type": "code",
   "execution_count": 10,
   "id": "934b6db6",
   "metadata": {},
   "outputs": [
    {
     "ename": "AttributeError",
     "evalue": "'list' object has no attribute 'split'",
     "output_type": "error",
     "traceback": [
      "\u001b[1;31m---------------------------------------------------------------------------\u001b[0m",
      "\u001b[1;31mAttributeError\u001b[0m                            Traceback (most recent call last)",
      "Cell \u001b[1;32mIn[10], line 1\u001b[0m\n\u001b[1;32m----> 1\u001b[0m \u001b[43mL\u001b[49m\u001b[38;5;241;43m.\u001b[39;49m\u001b[43msplit\u001b[49m(\u001b[38;5;124m'\u001b[39m\u001b[38;5;124m-\u001b[39m\u001b[38;5;124m'\u001b[39m)\n",
      "\u001b[1;31mAttributeError\u001b[0m: 'list' object has no attribute 'split'"
     ]
    }
   ],
   "source": [
    "L.split('-')"
   ]
  },
  {
   "cell_type": "code",
   "execution_count": 12,
   "id": "2d24dcb3",
   "metadata": {},
   "outputs": [
    {
     "data": {
      "text/plain": [
       "['pop']"
      ]
     },
     "execution_count": 12,
     "metadata": {},
     "output_type": "execute_result"
    }
   ],
   "source": [
    "'pop'.split('-')"
   ]
  },
  {
   "cell_type": "code",
   "execution_count": 13,
   "id": "bafff9da",
   "metadata": {},
   "outputs": [
    {
     "data": {
      "text/plain": [
       "['10.1', 1982, 'pop', 10, ['dc-ac', 10]]"
      ]
     },
     "execution_count": 13,
     "metadata": {},
     "output_type": "execute_result"
    }
   ],
   "source": [
    "L"
   ]
  },
  {
   "cell_type": "code",
   "execution_count": null,
   "id": "40b83a6b",
   "metadata": {},
   "outputs": [],
   "source": []
  }
 ],
 "metadata": {
  "kernelspec": {
   "display_name": "Python 3 (ipykernel)",
   "language": "python",
   "name": "python3"
  },
  "language_info": {
   "codemirror_mode": {
    "name": "ipython",
    "version": 3
   },
   "file_extension": ".py",
   "mimetype": "text/x-python",
   "name": "python",
   "nbconvert_exporter": "python",
   "pygments_lexer": "ipython3",
   "version": "3.10.4"
  }
 },
 "nbformat": 4,
 "nbformat_minor": 5
}
