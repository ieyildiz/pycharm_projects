{
 "cells": [
  {
   "cell_type": "code",
   "execution_count": null,
   "id": "e78ff5bc",
   "metadata": {},
   "outputs": [],
   "source": [
    "import pandas as pd"
   ]
  },
  {
   "cell_type": "code",
   "execution_count": null,
   "id": "55951474",
   "metadata": {},
   "outputs": [],
   "source": [
    "id_numbers = {\"ahmet\", 15578712, \"mehmet\", 5468721, \"sancar\", 5588789}"
   ]
  },
  {
   "cell_type": "code",
   "execution_count": null,
   "id": "4ec405fd",
   "metadata": {},
   "outputs": [],
   "source": [
    "id_numbers"
   ]
  },
  {
   "cell_type": "code",
   "execution_count": null,
   "id": "9d1d8717",
   "metadata": {},
   "outputs": [],
   "source": [
    "dict = {\"a\": [11,21,31], \"b\": [54,12,65]}\n",
    "dict"
   ]
  },
  {
   "cell_type": "code",
   "execution_count": null,
   "id": "f5af7e39",
   "metadata": {},
   "outputs": [],
   "source": [
    "df = pd.DataFrame(id_numbers)"
   ]
  },
  {
   "cell_type": "code",
   "execution_count": null,
   "id": "98e9724c",
   "metadata": {},
   "outputs": [],
   "source": [
    "df.head()"
   ]
  },
  {
   "cell_type": "code",
   "execution_count": null,
   "id": "1121a5e5",
   "metadata": {},
   "outputs": [],
   "source": [
    "id_numbers={\"ahmet\":[10145], \"mehmet\":[15645], \"steve\":[89545]}"
   ]
  },
  {
   "cell_type": "code",
   "execution_count": null,
   "id": "d9dd5a21",
   "metadata": {},
   "outputs": [],
   "source": [
    "id_numbers"
   ]
  },
  {
   "cell_type": "code",
   "execution_count": null,
   "id": "96850949",
   "metadata": {},
   "outputs": [],
   "source": [
    "df.head()"
   ]
  },
  {
   "cell_type": "code",
   "execution_count": null,
   "id": "dc4872cb",
   "metadata": {},
   "outputs": [],
   "source": [
    "df = pd.DataFrame(id_numbers)"
   ]
  },
  {
   "cell_type": "code",
   "execution_count": null,
   "id": "50cb7f16",
   "metadata": {},
   "outputs": [],
   "source": [
    "df.head()"
   ]
  },
  {
   "cell_type": "code",
   "execution_count": null,
   "id": "183cc95e",
   "metadata": {},
   "outputs": [],
   "source": [
    "df.mean()"
   ]
  },
  {
   "cell_type": "code",
   "execution_count": 1,
   "id": "cb97d6bc",
   "metadata": {},
   "outputs": [
    {
     "data": {
      "text/plain": [
       "{'ahmet': [45, 56, 78], 'mehmet': [95, 65, 88], 'steve': [25, 99, 100]}"
      ]
     },
     "execution_count": 1,
     "metadata": {},
     "output_type": "execute_result"
    }
   ],
   "source": [
    "grades = {\"ahmet\":[45,56,78],\"mehmet\":[95,65,88],\"steve\":[25,99,100]}\n",
    "grades"
   ]
  },
  {
   "cell_type": "code",
   "execution_count": 2,
   "id": "86f185c8",
   "metadata": {},
   "outputs": [],
   "source": [
    "import pandas as pd"
   ]
  },
  {
   "cell_type": "code",
   "execution_count": 3,
   "id": "da64a63d",
   "metadata": {},
   "outputs": [
    {
     "data": {
      "text/plain": [
       "{'ahmet': [45, 56, 78], 'mehmet': [95, 65, 88], 'steve': [25, 99, 100]}"
      ]
     },
     "execution_count": 3,
     "metadata": {},
     "output_type": "execute_result"
    }
   ],
   "source": [
    "grades"
   ]
  },
  {
   "cell_type": "code",
   "execution_count": 4,
   "id": "654c4329",
   "metadata": {},
   "outputs": [],
   "source": [
    "df = pd.DataFrame(grades)"
   ]
  },
  {
   "cell_type": "code",
   "execution_count": 5,
   "id": "64835ee8",
   "metadata": {},
   "outputs": [
    {
     "data": {
      "text/html": [
       "<div>\n",
       "<style scoped>\n",
       "    .dataframe tbody tr th:only-of-type {\n",
       "        vertical-align: middle;\n",
       "    }\n",
       "\n",
       "    .dataframe tbody tr th {\n",
       "        vertical-align: top;\n",
       "    }\n",
       "\n",
       "    .dataframe thead th {\n",
       "        text-align: right;\n",
       "    }\n",
       "</style>\n",
       "<table border=\"1\" class=\"dataframe\">\n",
       "  <thead>\n",
       "    <tr style=\"text-align: right;\">\n",
       "      <th></th>\n",
       "      <th>ahmet</th>\n",
       "      <th>mehmet</th>\n",
       "      <th>steve</th>\n",
       "    </tr>\n",
       "  </thead>\n",
       "  <tbody>\n",
       "    <tr>\n",
       "      <th>0</th>\n",
       "      <td>45</td>\n",
       "      <td>95</td>\n",
       "      <td>25</td>\n",
       "    </tr>\n",
       "    <tr>\n",
       "      <th>1</th>\n",
       "      <td>56</td>\n",
       "      <td>65</td>\n",
       "      <td>99</td>\n",
       "    </tr>\n",
       "    <tr>\n",
       "      <th>2</th>\n",
       "      <td>78</td>\n",
       "      <td>88</td>\n",
       "      <td>100</td>\n",
       "    </tr>\n",
       "  </tbody>\n",
       "</table>\n",
       "</div>"
      ],
      "text/plain": [
       "   ahmet  mehmet  steve\n",
       "0     45      95     25\n",
       "1     56      65     99\n",
       "2     78      88    100"
      ]
     },
     "execution_count": 5,
     "metadata": {},
     "output_type": "execute_result"
    }
   ],
   "source": [
    "df.head()"
   ]
  },
  {
   "cell_type": "code",
   "execution_count": 6,
   "id": "97e6653c",
   "metadata": {},
   "outputs": [
    {
     "data": {
      "text/plain": [
       "ahmet     59.666667\n",
       "mehmet    82.666667\n",
       "steve     74.666667\n",
       "dtype: float64"
      ]
     },
     "execution_count": 6,
     "metadata": {},
     "output_type": "execute_result"
    }
   ],
   "source": [
    "df.mean()"
   ]
  },
  {
   "cell_type": "code",
   "execution_count": 7,
   "id": "790a59ca",
   "metadata": {},
   "outputs": [
    {
     "ename": "NameError",
     "evalue": "name 'ahmet' is not defined",
     "output_type": "error",
     "traceback": [
      "\u001b[1;31m---------------------------------------------------------------------------\u001b[0m",
      "\u001b[1;31mNameError\u001b[0m                                 Traceback (most recent call last)",
      "Cell \u001b[1;32mIn[7], line 1\u001b[0m\n\u001b[1;32m----> 1\u001b[0m \u001b[43mahmet\u001b[49m\n",
      "\u001b[1;31mNameError\u001b[0m: name 'ahmet' is not defined"
     ]
    }
   ],
   "source": [
    "ahmet"
   ]
  },
  {
   "cell_type": "code",
   "execution_count": 8,
   "id": "1122c218",
   "metadata": {},
   "outputs": [
    {
     "data": {
      "text/plain": [
       "{'ahmet': [45, 56, 78], 'mehmet': [95, 65, 88], 'steve': [25, 99, 100]}"
      ]
     },
     "execution_count": 8,
     "metadata": {},
     "output_type": "execute_result"
    }
   ],
   "source": [
    "grades"
   ]
  },
  {
   "cell_type": "code",
   "execution_count": 9,
   "id": "00f62edf",
   "metadata": {},
   "outputs": [
    {
     "ename": "KeyError",
     "evalue": "0",
     "output_type": "error",
     "traceback": [
      "\u001b[1;31m---------------------------------------------------------------------------\u001b[0m",
      "\u001b[1;31mKeyError\u001b[0m                                  Traceback (most recent call last)",
      "Cell \u001b[1;32mIn[9], line 1\u001b[0m\n\u001b[1;32m----> 1\u001b[0m \u001b[43mgrades\u001b[49m\u001b[43m[\u001b[49m\u001b[38;5;241;43m0\u001b[39;49m\u001b[43m]\u001b[49m\n",
      "\u001b[1;31mKeyError\u001b[0m: 0"
     ]
    }
   ],
   "source": [
    "grades[0]"
   ]
  },
  {
   "cell_type": "code",
   "execution_count": null,
   "id": "346cb474",
   "metadata": {},
   "outputs": [],
   "source": []
  }
 ],
 "metadata": {
  "kernelspec": {
   "display_name": "Python 3 (ipykernel)",
   "language": "python",
   "name": "python3"
  },
  "language_info": {
   "codemirror_mode": {
    "name": "ipython",
    "version": 3
   },
   "file_extension": ".py",
   "mimetype": "text/x-python",
   "name": "python",
   "nbconvert_exporter": "python",
   "pygments_lexer": "ipython3",
   "version": "3.10.4"
  }
 },
 "nbformat": 4,
 "nbformat_minor": 5
}
