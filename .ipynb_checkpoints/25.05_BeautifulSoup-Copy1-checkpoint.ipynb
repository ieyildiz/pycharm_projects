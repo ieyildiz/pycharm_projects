{
 "cells": [
  {
   "cell_type": "code",
   "execution_count": 1,
   "id": "f1905d8c",
   "metadata": {},
   "outputs": [],
   "source": [
    "from bs4 import BeautifulSoup"
   ]
  },
  {
   "cell_type": "code",
   "execution_count": 17,
   "id": "d80d91f3",
   "metadata": {},
   "outputs": [],
   "source": [
    "html=\"<!DOCTYPE html><html><head><title>Page Title</title></head><body><h3><b id='boldest'>Lebron James</b></h3><p> Salary: $92,000,000</p><h3> Stephan Curry</h3><p> Salary: $85,000,000</p><h3> Kevin Durant</h3><p>Salary: $73,200,000</p></body</html>\""
   ]
  },
  {
   "cell_type": "code",
   "execution_count": 18,
   "id": "747d4986",
   "metadata": {},
   "outputs": [],
   "source": [
    "soup= BeautifulSoup(html, 'html5lib')"
   ]
  },
  {
   "cell_type": "code",
   "execution_count": 19,
   "id": "ccd02f16",
   "metadata": {},
   "outputs": [],
   "source": [
    "tag_object=soup.title"
   ]
  },
  {
   "cell_type": "code",
   "execution_count": 20,
   "id": "9084f7af",
   "metadata": {},
   "outputs": [
    {
     "data": {
      "text/plain": [
       "<title>Page Title</title>"
      ]
     },
     "execution_count": 20,
     "metadata": {},
     "output_type": "execute_result"
    }
   ],
   "source": [
    "tag_object"
   ]
  },
  {
   "cell_type": "code",
   "execution_count": 21,
   "id": "56ab0781",
   "metadata": {},
   "outputs": [],
   "source": [
    "tag_object=soup.h3"
   ]
  },
  {
   "cell_type": "code",
   "execution_count": 22,
   "id": "f2bf4ed4",
   "metadata": {},
   "outputs": [
    {
     "data": {
      "text/plain": [
       "<h3><b id=\"boldest\">Lebron James</b></h3>"
      ]
     },
     "execution_count": 22,
     "metadata": {},
     "output_type": "execute_result"
    }
   ],
   "source": [
    "tag_object"
   ]
  },
  {
   "cell_type": "code",
   "execution_count": 23,
   "id": "9c8257f2",
   "metadata": {},
   "outputs": [],
   "source": [
    "tag_child=tag_object.b"
   ]
  },
  {
   "cell_type": "code",
   "execution_count": 24,
   "id": "a94478e2",
   "metadata": {},
   "outputs": [
    {
     "data": {
      "text/plain": [
       "<b id=\"boldest\">Lebron James</b>"
      ]
     },
     "execution_count": 24,
     "metadata": {},
     "output_type": "execute_result"
    }
   ],
   "source": [
    "tag_child"
   ]
  },
  {
   "cell_type": "code",
   "execution_count": 26,
   "id": "f8e095c9",
   "metadata": {},
   "outputs": [],
   "source": [
    "parent_tag=tag_child.parent"
   ]
  },
  {
   "cell_type": "code",
   "execution_count": 27,
   "id": "db3b0837",
   "metadata": {},
   "outputs": [
    {
     "data": {
      "text/plain": [
       "<h3><b id=\"boldest\">Lebron James</b></h3>"
      ]
     },
     "execution_count": 27,
     "metadata": {},
     "output_type": "execute_result"
    }
   ],
   "source": [
    "parent_tag"
   ]
  },
  {
   "cell_type": "code",
   "execution_count": 28,
   "id": "77fab2e4",
   "metadata": {},
   "outputs": [],
   "source": [
    "sibling_1=tag_object.next_sibling"
   ]
  },
  {
   "cell_type": "code",
   "execution_count": 29,
   "id": "26594908",
   "metadata": {},
   "outputs": [
    {
     "data": {
      "text/plain": [
       "<p> Salary: $92,000,000</p>"
      ]
     },
     "execution_count": 29,
     "metadata": {},
     "output_type": "execute_result"
    }
   ],
   "source": [
    "sibling_1"
   ]
  },
  {
   "cell_type": "code",
   "execution_count": 30,
   "id": "33303a42",
   "metadata": {},
   "outputs": [],
   "source": [
    "sibling_2=sibling_1.next_sibling"
   ]
  },
  {
   "cell_type": "code",
   "execution_count": 31,
   "id": "9cd0510b",
   "metadata": {},
   "outputs": [
    {
     "data": {
      "text/plain": [
       "<h3> Stephan Curry</h3>"
      ]
     },
     "execution_count": 31,
     "metadata": {},
     "output_type": "execute_result"
    }
   ],
   "source": [
    "sibling_2"
   ]
  },
  {
   "cell_type": "code",
   "execution_count": 32,
   "id": "26555c6a",
   "metadata": {},
   "outputs": [],
   "source": [
    "sibling_3=sibling_2.next_sibling"
   ]
  },
  {
   "cell_type": "code",
   "execution_count": 33,
   "id": "ad0cff0a",
   "metadata": {},
   "outputs": [
    {
     "data": {
      "text/plain": [
       "<p> Salary: $85,000,000</p>"
      ]
     },
     "execution_count": 33,
     "metadata": {},
     "output_type": "execute_result"
    }
   ],
   "source": [
    "sibling_3"
   ]
  },
  {
   "cell_type": "code",
   "execution_count": 34,
   "id": "55a10d60",
   "metadata": {},
   "outputs": [
    {
     "data": {
      "text/plain": [
       "{'id': 'boldest'}"
      ]
     },
     "execution_count": 34,
     "metadata": {},
     "output_type": "execute_result"
    }
   ],
   "source": [
    "tag_child.attrs"
   ]
  },
  {
   "cell_type": "code",
   "execution_count": 35,
   "id": "478ca9d9",
   "metadata": {},
   "outputs": [
    {
     "data": {
      "text/plain": [
       "'Lebron James'"
      ]
     },
     "execution_count": 35,
     "metadata": {},
     "output_type": "execute_result"
    }
   ],
   "source": [
    "tag_child.string"
   ]
  },
  {
   "cell_type": "code",
   "execution_count": null,
   "id": "11ce6fb1",
   "metadata": {},
   "outputs": [],
   "source": []
  }
 ],
 "metadata": {
  "kernelspec": {
   "display_name": "Python 3 (ipykernel)",
   "language": "python",
   "name": "python3"
  },
  "language_info": {
   "codemirror_mode": {
    "name": "ipython",
    "version": 3
   },
   "file_extension": ".py",
   "mimetype": "text/x-python",
   "name": "python",
   "nbconvert_exporter": "python",
   "pygments_lexer": "ipython3",
   "version": "3.10.4"
  }
 },
 "nbformat": 4,
 "nbformat_minor": 5
}
